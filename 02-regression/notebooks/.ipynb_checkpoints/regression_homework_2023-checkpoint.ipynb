{
 "cells": [
  {
   "cell_type": "code",
   "execution_count": 10,
   "id": "b59c34e7",
   "metadata": {},
   "outputs": [],
   "source": [
    "import wget\n",
    "import pandas as pd\n",
    "import numpy as np\n",
    "import matplotlib.pyplot as plt\n",
    "import seaborn as sns"
   ]
  },
  {
   "cell_type": "code",
   "execution_count": 5,
   "id": "a95570f2",
   "metadata": {},
   "outputs": [
    {
     "name": "stdout",
     "output_type": "stream",
     "text": [
      "\r",
      "  0% [                                                                          ]       0 / 1423529\r",
      "  0% [                                                                          ]    8192 / 1423529\r",
      "  1% [                                                                          ]   16384 / 1423529\r",
      "  1% [.                                                                         ]   24576 / 1423529\r",
      "  2% [.                                                                         ]   32768 / 1423529\r",
      "  2% [..                                                                        ]   40960 / 1423529\r",
      "  3% [..                                                                        ]   49152 / 1423529\r",
      "  4% [..                                                                        ]   57344 / 1423529\r",
      "  4% [...                                                                       ]   65536 / 1423529\r",
      "  5% [...                                                                       ]   73728 / 1423529\r",
      "  5% [....                                                                      ]   81920 / 1423529\r",
      "  6% [....                                                                      ]   90112 / 1423529\r",
      "  6% [.....                                                                     ]   98304 / 1423529\r",
      "  7% [.....                                                                     ]  106496 / 1423529\r",
      "  8% [.....                                                                     ]  114688 / 1423529\r",
      "  8% [......                                                                    ]  122880 / 1423529\r",
      "  9% [......                                                                    ]  131072 / 1423529\r",
      "  9% [.......                                                                   ]  139264 / 1423529\r",
      " 10% [.......                                                                   ]  147456 / 1423529\r",
      " 10% [........                                                                  ]  155648 / 1423529\r",
      " 11% [........                                                                  ]  163840 / 1423529\r",
      " 12% [........                                                                  ]  172032 / 1423529\r",
      " 12% [.........                                                                 ]  180224 / 1423529\r",
      " 13% [.........                                                                 ]  188416 / 1423529\r",
      " 13% [..........                                                                ]  196608 / 1423529\r",
      " 14% [..........                                                                ]  204800 / 1423529\r",
      " 14% [...........                                                               ]  212992 / 1423529\r",
      " 15% [...........                                                               ]  221184 / 1423529\r",
      " 16% [...........                                                               ]  229376 / 1423529\r",
      " 16% [............                                                              ]  237568 / 1423529\r",
      " 17% [............                                                              ]  245760 / 1423529\r",
      " 17% [.............                                                             ]  253952 / 1423529\r",
      " 18% [.............                                                             ]  262144 / 1423529\r",
      " 18% [..............                                                            ]  270336 / 1423529\r",
      " 19% [..............                                                            ]  278528 / 1423529\r",
      " 20% [..............                                                            ]  286720 / 1423529\r",
      " 20% [...............                                                           ]  294912 / 1423529\r",
      " 21% [...............                                                           ]  303104 / 1423529\r",
      " 21% [................                                                          ]  311296 / 1423529\r",
      " 22% [................                                                          ]  319488 / 1423529\r",
      " 23% [.................                                                         ]  327680 / 1423529\r",
      " 23% [.................                                                         ]  335872 / 1423529\r",
      " 24% [.................                                                         ]  344064 / 1423529\r",
      " 24% [..................                                                        ]  352256 / 1423529\r",
      " 25% [..................                                                        ]  360448 / 1423529\r",
      " 25% [...................                                                       ]  368640 / 1423529\r",
      " 26% [...................                                                       ]  376832 / 1423529\r",
      " 27% [....................                                                      ]  385024 / 1423529\r",
      " 27% [....................                                                      ]  393216 / 1423529\r",
      " 28% [....................                                                      ]  401408 / 1423529\r",
      " 28% [.....................                                                     ]  409600 / 1423529\r",
      " 29% [.....................                                                     ]  417792 / 1423529\r",
      " 29% [......................                                                    ]  425984 / 1423529\r",
      " 30% [......................                                                    ]  434176 / 1423529\r",
      " 31% [......................                                                    ]  442368 / 1423529\r",
      " 31% [.......................                                                   ]  450560 / 1423529\r",
      " 32% [.......................                                                   ]  458752 / 1423529\r",
      " 32% [........................                                                  ]  466944 / 1423529\r",
      " 33% [........................                                                  ]  475136 / 1423529\r",
      " 33% [.........................                                                 ]  483328 / 1423529\r",
      " 34% [.........................                                                 ]  491520 / 1423529\r",
      " 35% [.........................                                                 ]  499712 / 1423529\r",
      " 35% [..........................                                                ]  507904 / 1423529\r",
      " 36% [..........................                                                ]  516096 / 1423529\r",
      " 36% [...........................                                               ]  524288 / 1423529\r",
      " 37% [...........................                                               ]  532480 / 1423529\r",
      " 37% [............................                                              ]  540672 / 1423529\r",
      " 38% [............................                                              ]  548864 / 1423529\r",
      " 39% [............................                                              ]  557056 / 1423529\r",
      " 39% [.............................                                             ]  565248 / 1423529\r",
      " 40% [.............................                                             ]  573440 / 1423529\r",
      " 40% [..............................                                            ]  581632 / 1423529\r",
      " 41% [..............................                                            ]  589824 / 1423529\r",
      " 42% [...............................                                           ]  598016 / 1423529\r",
      " 42% [...............................                                           ]  606208 / 1423529\r",
      " 43% [...............................                                           ]  614400 / 1423529\r",
      " 43% [................................                                          ]  622592 / 1423529\r",
      " 44% [................................                                          ]  630784 / 1423529\r",
      " 44% [.................................                                         ]  638976 / 1423529\r",
      " 45% [.................................                                         ]  647168 / 1423529\r",
      " 46% [..................................                                        ]  655360 / 1423529\r",
      " 46% [..................................                                        ]  663552 / 1423529\r",
      " 47% [..................................                                        ]  671744 / 1423529\r",
      " 47% [...................................                                       ]  679936 / 1423529\r",
      " 48% [...................................                                       ]  688128 / 1423529\r",
      " 48% [....................................                                      ]  696320 / 1423529\r",
      " 49% [....................................                                      ]  704512 / 1423529\r",
      " 50% [.....................................                                     ]  712704 / 1423529\r",
      " 50% [.....................................                                     ]  720896 / 1423529\r",
      " 51% [.....................................                                     ]  729088 / 1423529\r",
      " 51% [......................................                                    ]  737280 / 1423529\r",
      " 52% [......................................                                    ]  745472 / 1423529\r",
      " 52% [.......................................                                   ]  753664 / 1423529\r",
      " 53% [.......................................                                   ]  761856 / 1423529\r",
      " 54% [........................................                                  ]  770048 / 1423529\r",
      " 54% [........................................                                  ]  778240 / 1423529\r",
      " 55% [........................................                                  ]  786432 / 1423529\r",
      " 55% [.........................................                                 ]  794624 / 1423529\r",
      " 56% [.........................................                                 ]  802816 / 1423529\r",
      " 56% [..........................................                                ]  811008 / 1423529\r",
      " 57% [..........................................                                ]  819200 / 1423529\r",
      " 58% [...........................................                               ]  827392 / 1423529\r",
      " 58% [...........................................                               ]  835584 / 1423529\r",
      " 59% [...........................................                               ]  843776 / 1423529\r",
      " 59% [............................................                              ]  851968 / 1423529\r",
      " 60% [............................................                              ]  860160 / 1423529\r",
      " 60% [.............................................                             ]  868352 / 1423529\r",
      " 61% [.............................................                             ]  876544 / 1423529\r",
      " 62% [.............................................                             ]  884736 / 1423529\r",
      " 62% [..............................................                            ]  892928 / 1423529\r",
      " 63% [..............................................                            ]  901120 / 1423529\r",
      " 63% [...............................................                           ]  909312 / 1423529\r",
      " 64% [...............................................                           ]  917504 / 1423529\r",
      " 65% [................................................                          ]  925696 / 1423529\r",
      " 65% [................................................                          ]  933888 / 1423529\r",
      " 66% [................................................                          ]  942080 / 1423529\r",
      " 66% [.................................................                         ]  950272 / 1423529\r",
      " 67% [.................................................                         ]  958464 / 1423529\r",
      " 67% [..................................................                        ]  966656 / 1423529\r",
      " 68% [..................................................                        ]  974848 / 1423529\r",
      " 69% [...................................................                       ]  983040 / 1423529\r",
      " 69% [...................................................                       ]  991232 / 1423529\r",
      " 70% [...................................................                       ]  999424 / 1423529\r",
      " 70% [....................................................                      ] 1007616 / 1423529\r",
      " 71% [....................................................                      ] 1015808 / 1423529\r",
      " 71% [.....................................................                     ] 1024000 / 1423529\r",
      " 72% [.....................................................                     ] 1032192 / 1423529\r",
      " 73% [......................................................                    ] 1040384 / 1423529\r",
      " 73% [......................................................                    ] 1048576 / 1423529\r",
      " 74% [......................................................                    ] 1056768 / 1423529\r",
      " 74% [.......................................................                   ] 1064960 / 1423529\r",
      " 75% [.......................................................                   ] 1073152 / 1423529\r",
      " 75% [........................................................                  ] 1081344 / 1423529\r",
      " 76% [........................................................                  ] 1089536 / 1423529\r",
      " 77% [.........................................................                 ] 1097728 / 1423529\r",
      " 77% [.........................................................                 ] 1105920 / 1423529\r",
      " 78% [.........................................................                 ] 1114112 / 1423529\r",
      " 78% [..........................................................                ] 1122304 / 1423529\r",
      " 79% [..........................................................                ] 1130496 / 1423529\r",
      " 79% [...........................................................               ] 1138688 / 1423529\r",
      " 80% [...........................................................               ] 1146880 / 1423529\r",
      " 81% [............................................................              ] 1155072 / 1423529\r",
      " 81% [............................................................              ] 1163264 / 1423529\r",
      " 82% [............................................................              ] 1171456 / 1423529\r",
      " 82% [.............................................................             ] 1179648 / 1423529\r",
      " 83% [.............................................................             ] 1187840 / 1423529\r",
      " 84% [..............................................................            ] 1196032 / 1423529\r",
      " 84% [..............................................................            ] 1204224 / 1423529\r",
      " 85% [...............................................................           ] 1212416 / 1423529\r",
      " 85% [...............................................................           ] 1220608 / 1423529\r",
      " 86% [...............................................................           ] 1228800 / 1423529\r",
      " 86% [................................................................          ] 1236992 / 1423529\r",
      " 87% [................................................................          ] 1245184 / 1423529\r",
      " 88% [.................................................................         ] 1253376 / 1423529\r",
      " 88% [.................................................................         ] 1261568 / 1423529\r",
      " 89% [..................................................................        ] 1269760 / 1423529\r",
      " 89% [..................................................................        ] 1277952 / 1423529\r",
      " 90% [..................................................................        ] 1286144 / 1423529\r",
      " 90% [...................................................................       ] 1294336 / 1423529\r",
      " 91% [...................................................................       ] 1302528 / 1423529\r",
      " 92% [....................................................................      ] 1310720 / 1423529\r",
      " 92% [....................................................................      ] 1318912 / 1423529\r",
      " 93% [....................................................................      ] 1327104 / 1423529\r",
      " 93% [.....................................................................     ] 1335296 / 1423529\r",
      " 94% [.....................................................................     ] 1343488 / 1423529\r",
      " 94% [......................................................................    ] 1351680 / 1423529\r",
      " 95% [......................................................................    ] 1359872 / 1423529\r",
      " 96% [.......................................................................   ] 1368064 / 1423529\r",
      " 96% [.......................................................................   ] 1376256 / 1423529\r",
      " 97% [.......................................................................   ] 1384448 / 1423529\r",
      " 97% [........................................................................  ] 1392640 / 1423529\r",
      " 98% [........................................................................  ] 1400832 / 1423529\r",
      " 98% [......................................................................... ] 1409024 / 1423529\r",
      " 99% [......................................................................... ] 1417216 / 1423529\r",
      "100% [..........................................................................] 1423529 / 1423529"
     ]
    },
    {
     "data": {
      "text/plain": [
       "'../input_data/housing.csv'"
      ]
     },
     "execution_count": 5,
     "metadata": {},
     "output_type": "execute_result"
    }
   ],
   "source": [
    "url = \"https://raw.githubusercontent.com/alexeygrigorev/datasets/master/housing.csv\"\n",
    "\n",
    "# Directory to save the downloaded file\n",
    "save_directory = \"../input_data\"\n",
    "\n",
    "# Download the file\n",
    "wget.download(url, out=save_directory)"
   ]
  },
  {
   "cell_type": "code",
   "execution_count": 8,
   "id": "2f8c8c6c",
   "metadata": {},
   "outputs": [],
   "source": [
    "housing_df = pd.read_csv('../input_data/housing.csv')"
   ]
  },
  {
   "cell_type": "code",
   "execution_count": 9,
   "id": "fdab80d1",
   "metadata": {},
   "outputs": [
    {
     "data": {
      "text/html": [
       "<div>\n",
       "<style scoped>\n",
       "    .dataframe tbody tr th:only-of-type {\n",
       "        vertical-align: middle;\n",
       "    }\n",
       "\n",
       "    .dataframe tbody tr th {\n",
       "        vertical-align: top;\n",
       "    }\n",
       "\n",
       "    .dataframe thead th {\n",
       "        text-align: right;\n",
       "    }\n",
       "</style>\n",
       "<table border=\"1\" class=\"dataframe\">\n",
       "  <thead>\n",
       "    <tr style=\"text-align: right;\">\n",
       "      <th></th>\n",
       "      <th>longitude</th>\n",
       "      <th>latitude</th>\n",
       "      <th>housing_median_age</th>\n",
       "      <th>total_rooms</th>\n",
       "      <th>total_bedrooms</th>\n",
       "      <th>population</th>\n",
       "      <th>households</th>\n",
       "      <th>median_income</th>\n",
       "      <th>median_house_value</th>\n",
       "      <th>ocean_proximity</th>\n",
       "    </tr>\n",
       "  </thead>\n",
       "  <tbody>\n",
       "    <tr>\n",
       "      <th>0</th>\n",
       "      <td>-122.23</td>\n",
       "      <td>37.88</td>\n",
       "      <td>41.0</td>\n",
       "      <td>880.0</td>\n",
       "      <td>129.0</td>\n",
       "      <td>322.0</td>\n",
       "      <td>126.0</td>\n",
       "      <td>8.3252</td>\n",
       "      <td>452600.0</td>\n",
       "      <td>NEAR BAY</td>\n",
       "    </tr>\n",
       "    <tr>\n",
       "      <th>1</th>\n",
       "      <td>-122.22</td>\n",
       "      <td>37.86</td>\n",
       "      <td>21.0</td>\n",
       "      <td>7099.0</td>\n",
       "      <td>1106.0</td>\n",
       "      <td>2401.0</td>\n",
       "      <td>1138.0</td>\n",
       "      <td>8.3014</td>\n",
       "      <td>358500.0</td>\n",
       "      <td>NEAR BAY</td>\n",
       "    </tr>\n",
       "    <tr>\n",
       "      <th>2</th>\n",
       "      <td>-122.24</td>\n",
       "      <td>37.85</td>\n",
       "      <td>52.0</td>\n",
       "      <td>1467.0</td>\n",
       "      <td>190.0</td>\n",
       "      <td>496.0</td>\n",
       "      <td>177.0</td>\n",
       "      <td>7.2574</td>\n",
       "      <td>352100.0</td>\n",
       "      <td>NEAR BAY</td>\n",
       "    </tr>\n",
       "    <tr>\n",
       "      <th>3</th>\n",
       "      <td>-122.25</td>\n",
       "      <td>37.85</td>\n",
       "      <td>52.0</td>\n",
       "      <td>1274.0</td>\n",
       "      <td>235.0</td>\n",
       "      <td>558.0</td>\n",
       "      <td>219.0</td>\n",
       "      <td>5.6431</td>\n",
       "      <td>341300.0</td>\n",
       "      <td>NEAR BAY</td>\n",
       "    </tr>\n",
       "    <tr>\n",
       "      <th>4</th>\n",
       "      <td>-122.25</td>\n",
       "      <td>37.85</td>\n",
       "      <td>52.0</td>\n",
       "      <td>1627.0</td>\n",
       "      <td>280.0</td>\n",
       "      <td>565.0</td>\n",
       "      <td>259.0</td>\n",
       "      <td>3.8462</td>\n",
       "      <td>342200.0</td>\n",
       "      <td>NEAR BAY</td>\n",
       "    </tr>\n",
       "  </tbody>\n",
       "</table>\n",
       "</div>"
      ],
      "text/plain": [
       "   longitude  latitude  housing_median_age  total_rooms  total_bedrooms  \\\n",
       "0    -122.23     37.88                41.0        880.0           129.0   \n",
       "1    -122.22     37.86                21.0       7099.0          1106.0   \n",
       "2    -122.24     37.85                52.0       1467.0           190.0   \n",
       "3    -122.25     37.85                52.0       1274.0           235.0   \n",
       "4    -122.25     37.85                52.0       1627.0           280.0   \n",
       "\n",
       "   population  households  median_income  median_house_value ocean_proximity  \n",
       "0       322.0       126.0         8.3252            452600.0        NEAR BAY  \n",
       "1      2401.0      1138.0         8.3014            358500.0        NEAR BAY  \n",
       "2       496.0       177.0         7.2574            352100.0        NEAR BAY  \n",
       "3       558.0       219.0         5.6431            341300.0        NEAR BAY  \n",
       "4       565.0       259.0         3.8462            342200.0        NEAR BAY  "
      ]
     },
     "execution_count": 9,
     "metadata": {},
     "output_type": "execute_result"
    }
   ],
   "source": [
    "housing_df.head()"
   ]
  },
  {
   "cell_type": "code",
   "execution_count": 11,
   "id": "64a99cfe",
   "metadata": {},
   "outputs": [
    {
     "data": {
      "text/plain": [
       "<Axes: xlabel='median_house_value', ylabel='Count'>"
      ]
     },
     "execution_count": 11,
     "metadata": {},
     "output_type": "execute_result"
    },
    {
     "data": {
      "image/png": "[encoded data removed]",
      "text/plain": [
       "<Figure size 640x480 with 1 Axes>"
      ]
     },
     "metadata": {},
     "output_type": "display_data"
    }
   ],
   "source": [
    "# Look at the median_house_value variable. Does it have a long tail?\n",
    "sns.histplot(housing_df.median_house_value, bins=50)"
   ]
  },
  {
   "cell_type": "code",
   "execution_count": 22,
   "id": "8eb0871d",
   "metadata": {},
   "outputs": [],
   "source": [
    "# First, keep only the records where ocean_proximity is either '<1H OCEAN' or 'INLAND'\n",
    "df = housing_df[housing_df['ocean_proximity'].isin(['<1H OCEAN', 'INLAND'])]\n",
    "df = df.drop(columns=['ocean_proximity'])"
   ]
  },
  {
   "cell_type": "code",
   "execution_count": 23,
   "id": "a962053f",
   "metadata": {},
   "outputs": [
    {
     "data": {
      "text/plain": [
       "Index(['longitude', 'latitude', 'housing_median_age', 'total_rooms',\n",
       "       'total_bedrooms', 'population', 'households', 'median_income',\n",
       "       'median_house_value'],\n",
       "      dtype='object')"
      ]
     },
     "execution_count": 23,
     "metadata": {},
     "output_type": "execute_result"
    }
   ],
   "source": [
    "df.columns"
   ]
  },
  {
   "cell_type": "code",
   "execution_count": 24,
   "id": "071e4762",
   "metadata": {},
   "outputs": [
    {
     "data": {
      "text/plain": [
       "longitude             15687\n",
       "latitude              15687\n",
       "housing_median_age    15687\n",
       "total_rooms           15687\n",
       "total_bedrooms        15530\n",
       "population            15687\n",
       "households            15687\n",
       "median_income         15687\n",
       "median_house_value    15687\n",
       "dtype: int64"
      ]
     },
     "execution_count": 24,
     "metadata": {},
     "output_type": "execute_result"
    }
   ],
   "source": [
    "df.count()"
   ]
  },
  {
   "cell_type": "markdown",
   "id": "58b22093",
   "metadata": {},
   "source": [
    "### Question 1: There's one feature with missing values. What is it?"
   ]
  },
  {
   "cell_type": "code",
   "execution_count": 31,
   "id": "5bc19813",
   "metadata": {},
   "outputs": [
    {
     "name": "stdout",
     "output_type": "stream",
     "text": [
      "total_bedrooms    157\n",
      "dtype: int64\n"
     ]
    }
   ],
   "source": [
    "null_counts = df.isnull().sum()\n",
    "\n",
    "# Filter out columns with null values\n",
    "columns_with_nulls = null_counts[null_counts > 0]\n",
    "\n",
    "# Show columns with null values\n",
    "print(columns_with_nulls)"
   ]
  },
  {
   "cell_type": "markdown",
   "id": "eb61fd75",
   "metadata": {},
   "source": [
    "### Question 2: What's the median (50% percentile) for variable 'population'?"
   ]
  },
  {
   "cell_type": "code",
   "execution_count": 34,
   "id": "bb57dd8c",
   "metadata": {},
   "outputs": [
    {
     "data": {
      "text/plain": [
       "1195.0"
      ]
     },
     "execution_count": 34,
     "metadata": {},
     "output_type": "execute_result"
    }
   ],
   "source": [
    "df.population.median()"
   ]
  },
  {
   "cell_type": "code",
   "execution_count": 53,
   "id": "096d7673",
   "metadata": {},
   "outputs": [],
   "source": [
    "# Prepare and split the dataset\n",
    "# Shuffle the dataset (the filtered one you created above), use seed 42\n",
    "n = len(df)\n",
    "\n",
    "# Split your data in train/val/test sets, with 60%/20%/20% distribution.\n",
    "n_val = int(n * .20)\n",
    "n_test = int(n * .20)\n",
    "n_train = n - (n_val + n_test)\n",
    "\n",
    "idx = np.arange(n)\n",
    "\n",
    "np.random.seed(42)\n",
    "np.random.shuffle(idx)\n",
    "\n",
    "df_train = df.iloc[:n_train]\n",
    "df_val = df.iloc[n_train: n_train+n_val]\n",
    "df_test = df.iloc[n_train+n_val:]"
   ]
  },
  {
   "cell_type": "code",
   "execution_count": 54,
   "id": "668ddad3",
   "metadata": {},
   "outputs": [
    {
     "data": {
      "text/html": [
       "<div>\n",
       "<style scoped>\n",
       "    .dataframe tbody tr th:only-of-type {\n",
       "        vertical-align: middle;\n",
       "    }\n",
       "\n",
       "    .dataframe tbody tr th {\n",
       "        vertical-align: top;\n",
       "    }\n",
       "\n",
       "    .dataframe thead th {\n",
       "        text-align: right;\n",
       "    }\n",
       "</style>\n",
       "<table border=\"1\" class=\"dataframe\">\n",
       "  <thead>\n",
       "    <tr style=\"text-align: right;\">\n",
       "      <th></th>\n",
       "      <th>longitude</th>\n",
       "      <th>latitude</th>\n",
       "      <th>housing_median_age</th>\n",
       "      <th>total_rooms</th>\n",
       "      <th>total_bedrooms</th>\n",
       "      <th>population</th>\n",
       "      <th>households</th>\n",
       "      <th>median_income</th>\n",
       "      <th>median_house_value</th>\n",
       "    </tr>\n",
       "  </thead>\n",
       "  <tbody>\n",
       "    <tr>\n",
       "      <th>16258</th>\n",
       "      <td>-121.26</td>\n",
       "      <td>37.96</td>\n",
       "      <td>43.0</td>\n",
       "      <td>940.0</td>\n",
       "      <td>208.0</td>\n",
       "      <td>690.0</td>\n",
       "      <td>181.0</td>\n",
       "      <td>2.3056</td>\n",
       "      <td>62300.0</td>\n",
       "    </tr>\n",
       "    <tr>\n",
       "      <th>16259</th>\n",
       "      <td>-121.26</td>\n",
       "      <td>37.97</td>\n",
       "      <td>41.0</td>\n",
       "      <td>2398.0</td>\n",
       "      <td>448.0</td>\n",
       "      <td>1143.0</td>\n",
       "      <td>444.0</td>\n",
       "      <td>3.0352</td>\n",
       "      <td>69800.0</td>\n",
       "    </tr>\n",
       "    <tr>\n",
       "      <th>16260</th>\n",
       "      <td>-121.25</td>\n",
       "      <td>37.97</td>\n",
       "      <td>41.0</td>\n",
       "      <td>855.0</td>\n",
       "      <td>189.0</td>\n",
       "      <td>716.0</td>\n",
       "      <td>206.0</td>\n",
       "      <td>2.0375</td>\n",
       "      <td>75000.0</td>\n",
       "    </tr>\n",
       "    <tr>\n",
       "      <th>16261</th>\n",
       "      <td>-121.26</td>\n",
       "      <td>37.96</td>\n",
       "      <td>35.0</td>\n",
       "      <td>1511.0</td>\n",
       "      <td>316.0</td>\n",
       "      <td>892.0</td>\n",
       "      <td>304.0</td>\n",
       "      <td>1.7898</td>\n",
       "      <td>63500.0</td>\n",
       "    </tr>\n",
       "    <tr>\n",
       "      <th>16262</th>\n",
       "      <td>-121.25</td>\n",
       "      <td>37.95</td>\n",
       "      <td>40.0</td>\n",
       "      <td>1703.0</td>\n",
       "      <td>362.0</td>\n",
       "      <td>1208.0</td>\n",
       "      <td>373.0</td>\n",
       "      <td>2.0817</td>\n",
       "      <td>55300.0</td>\n",
       "    </tr>\n",
       "  </tbody>\n",
       "</table>\n",
       "</div>"
      ],
      "text/plain": [
       "       longitude  latitude  housing_median_age  total_rooms  total_bedrooms  \\\n",
       "16258    -121.26     37.96                43.0        940.0           208.0   \n",
       "16259    -121.26     37.97                41.0       2398.0           448.0   \n",
       "16260    -121.25     37.97                41.0        855.0           189.0   \n",
       "16261    -121.26     37.96                35.0       1511.0           316.0   \n",
       "16262    -121.25     37.95                40.0       1703.0           362.0   \n",
       "\n",
       "       population  households  median_income  median_house_value  \n",
       "16258       690.0       181.0         2.3056             62300.0  \n",
       "16259      1143.0       444.0         3.0352             69800.0  \n",
       "16260       716.0       206.0         2.0375             75000.0  \n",
       "16261       892.0       304.0         1.7898             63500.0  \n",
       "16262      1208.0       373.0         2.0817             55300.0  "
      ]
     },
     "execution_count": 54,
     "metadata": {},
     "output_type": "execute_result"
    }
   ],
   "source": [
    "df_test.head()"
   ]
  },
  {
   "cell_type": "code",
   "execution_count": 55,
   "id": "26c255a4",
   "metadata": {},
   "outputs": [],
   "source": [
    "df_train = df_train.reset_index(drop=True)\n",
    "df_val = df_val.reset_index(drop=True)\n",
    "df_test = df_test.reset_index(drop=True)"
   ]
  },
  {
   "cell_type": "code",
   "execution_count": 56,
   "id": "56d6666e",
   "metadata": {},
   "outputs": [],
   "source": [
    "# Apply the log transformation to the median_house_value variable using the np.log1p() function.\n",
    "y_train = np.log1p(df_train.median_house_value.values)\n",
    "y_val = np.log1p(df_val.median_house_value.values)\n",
    "y_test = np.log1p(df_test.median_house_value.values)"
   ]
  },
  {
   "cell_type": "code",
   "execution_count": 57,
   "id": "beddf625",
   "metadata": {},
   "outputs": [
    {
     "data": {
      "text/plain": [
       "array([12.45176407, 11.8115549 , 12.14685859, ..., 10.78520754,\n",
       "       10.82974842, 11.0524919 ])"
      ]
     },
     "execution_count": 57,
     "metadata": {},
     "output_type": "execute_result"
    }
   ],
   "source": [
    "y_val"
   ]
  },
  {
   "cell_type": "code",
   "execution_count": 65,
   "id": "060fc316",
   "metadata": {},
   "outputs": [],
   "source": [
    "# deal with missing values for the column total_bedrooms\n",
    "# 1.  Use mean of this variable to fill missing values\n",
    "total_bedrooms_mean = df_train['total_bedrooms'].mean()\n",
    "df_train_fillna_mean = df_train.copy()\n",
    "df_train_fillna_mean['total_bedrooms'].fillna(total_bedrooms_mean, inplace = True)\n",
    "\n",
    "# 2. Use 0 to fill missing values\n",
    "df_train_fillna_zero = df_train.copy()\n",
    "df_train_fillna_zero['total_bedrooms'].fillna(0, inplace = True)"
   ]
  },
  {
   "cell_type": "code",
   "execution_count": 71,
   "id": "ce9f2215",
   "metadata": {},
   "outputs": [],
   "source": [
    "# For each, train a linear regression model without regularization using the code from the lessons.\n",
    "def train_linear_reg(X, y):\n",
    "    ones = np.ones(X.shape[0])\n",
    "    X = np.column_stack([ones, X])\n",
    "    \n",
    "    XTX = X.T.dot(X)\n",
    "    XTX_inv = np.linalg.inv(XTX)\n",
    "    w_full = XTX_inv.dot(X.T).dot(y)\n",
    "    return w_full[0], w_full[1:]"
   ]
  },
  {
   "cell_type": "code",
   "execution_count": 75,
   "id": "b8f6a544",
   "metadata": {},
   "outputs": [],
   "source": [
    "w_0_fillna_mean, w_full_fillna_mean = train_linear_reg(df_train_fillna_mean, y_train)\n",
    "\n",
    "w_0_fillna_zero, w_full_fillna_zero = train_linear_reg(df_train_fillna_zero, y_train)"
   ]
  },
  {
   "cell_type": "code",
   "execution_count": 76,
   "id": "3ef662dc",
   "metadata": {},
   "outputs": [],
   "source": [
    "y_pred_fillna_mean = w_0_fillna_mean + df_train_fillna_mean.dot(w_full_fillna_mean)\n",
    "\n",
    "y_pred_fillna_zero = w_0_fillna_zero + df_train_fillna_zero.dot(w_full_fillna_zero)"
   ]
  },
  {
   "cell_type": "code",
   "execution_count": 80,
   "id": "5c1ee1c5",
   "metadata": {},
   "outputs": [],
   "source": [
    "# rmse\n",
    "def rmse(y, y_pred):\n",
    "    se = (y - y_pred) ** 2\n",
    "    mse = se.mean()\n",
    "    return round(np.sqrt(mse), 2)"
   ]
  },
  {
   "cell_type": "code",
   "execution_count": 81,
   "id": "615d5898",
   "metadata": {},
   "outputs": [
    {
     "data": {
      "text/plain": [
       "0.17"
      ]
     },
     "execution_count": 81,
     "metadata": {},
     "output_type": "execute_result"
    }
   ],
   "source": [
    "rmse(y_train, y_pred_fillna_mean)"
   ]
  },
  {
   "cell_type": "code",
   "execution_count": 82,
   "id": "2c4338e0",
   "metadata": {},
   "outputs": [
    {
     "data": {
      "text/plain": [
       "0.17"
      ]
     },
     "execution_count": 82,
     "metadata": {},
     "output_type": "execute_result"
    }
   ],
   "source": [
    "rmse(y_train, y_pred_fillna_zero)"
   ]
  },
  {
   "cell_type": "code",
   "execution_count": null,
   "id": "43018ba5",
   "metadata": {},
   "outputs": [],
   "source": []
  }
 ],
 "metadata": {
  "kernelspec": {
   "display_name": "Python 3 (ipykernel)",
   "language": "python",
   "name": "python3"
  },
  "language_info": {
   "codemirror_mode": {
    "name": "ipython",
    "version": 3
   },
   "file_extension": ".py",
   "mimetype": "text/x-python",
   "name": "python",
   "nbconvert_exporter": "python",
   "pygments_lexer": "ipython3",
   "version": "3.11.5"
  }
 },
 "nbformat": 4,
 "nbformat_minor": 5
}
